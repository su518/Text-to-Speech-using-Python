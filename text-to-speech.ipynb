{
 "cells": [
  {
   "cell_type": "code",
   "execution_count": 2,
   "metadata": {},
   "outputs": [],
   "source": [
    "## import libraries\n",
    "\n",
    "from tkinter import *\n",
    "from gtts import gTTS\n",
    "from playsound import playsound"
   ]
  },
  {
   "cell_type": "code",
   "execution_count": 3,
   "metadata": {},
   "outputs": [
    {
     "data": {
      "text/plain": [
       "''"
      ]
     },
     "execution_count": 3,
     "metadata": {},
     "output_type": "execute_result"
    }
   ],
   "source": [
    "################### Initialized window####################\n",
    "\n",
    "root = Tk()\n",
    "root.geometry('350x300')\n",
    "root.resizable(0,0)\n",
    "root.config(bg = 'ghost white')\n",
    "root.title('DataFlair - TEXT_TO_SPEECH')"
   ]
  },
  {
   "cell_type": "code",
   "execution_count": 4,
   "metadata": {},
   "outputs": [],
   "source": [
    "##heading\n",
    "Label(root, text = 'TEXT_TO_SPEECH' , font='arial 20 bold' , bg ='white smoke').pack()\n",
    "Label(root, text ='DataFlair' , font ='arial 15 bold', bg = 'white smoke').pack(side = BOTTOM)"
   ]
  },
  {
   "cell_type": "code",
   "execution_count": 5,
   "metadata": {},
   "outputs": [],
   "source": [
    "#label\n",
    "Label(root, text ='Enter Text', font ='arial 15 bold', bg ='white smoke').place(x=20,y=60)"
   ]
  },
  {
   "cell_type": "code",
   "execution_count": 6,
   "metadata": {},
   "outputs": [],
   "source": [
    "##text variable\n",
    "Msg = StringVar()"
   ]
  },
  {
   "cell_type": "code",
   "execution_count": 7,
   "metadata": {},
   "outputs": [],
   "source": [
    "#Entry\n",
    "entry_field = Entry(root,textvariable =Msg, width ='50')\n",
    "entry_field.place(x=20 , y=100)"
   ]
  },
  {
   "cell_type": "code",
   "execution_count": 8,
   "metadata": {},
   "outputs": [],
   "source": [
    "###################define function##############################\n",
    "\n",
    "def Text_to_speech():\n",
    "    Message = entry_field.get()\n",
    "    speech = gTTS(text = Message)\n",
    "    speech.save('DataFlair.mp3')\n",
    "    playsound('DataFlair.mp3')\n",
    "\n",
    "def Exit():\n",
    "    root.destroy()\n",
    "\n",
    "def Reset():\n",
    "    Msg.set(\"\")"
   ]
  },
  {
   "cell_type": "code",
   "execution_count": 9,
   "metadata": {},
   "outputs": [],
   "source": [
    "#Button\n",
    "Button(root, text = \"PLAY\" , font = 'arial 15 bold', command = Text_to_speech, width =4).place(x=25, y=140)\n",
    "Button(root,text = 'EXIT',font = 'arial 15 bold' , command = Exit, bg = 'OrangeRed1').place(x=100,y=140)\n",
    "Button(root, text = 'RESET', font='arial 15 bold', command = Reset).place(x=175 , y =140)"
   ]
  },
  {
   "cell_type": "code",
   "execution_count": 10,
   "metadata": {},
   "outputs": [],
   "source": [
    "#infinite loop to run program\n",
    "root.mainloop()"
   ]
  },
  {
   "cell_type": "code",
   "execution_count": null,
   "metadata": {},
   "outputs": [],
   "source": []
  }
 ],
 "metadata": {
  "kernelspec": {
   "display_name": "Python 3",
   "language": "python",
   "name": "python3"
  }
 },
 "nbformat": 4,
 "nbformat_minor": 4
}
